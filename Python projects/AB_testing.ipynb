{
 "cells": [
  {
   "cell_type": "code",
   "execution_count": 97,
   "id": "1e5df076-b3b8-4cfe-a79d-82377a5424d8",
   "metadata": {},
   "outputs": [],
   "source": [
    "# Dataset: https://www.kaggle.com/datasets/faviovaz/marketing-ab-testing\n",
    "import pandas as pd\n",
    "import numpy as np\n",
    "from scipy import stats\n",
    "import matplotlib.pyplot as plt"
   ]
  },
  {
   "cell_type": "code",
   "execution_count": 99,
   "id": "bc90abe3-5e86-4321-9837-75b037ffb1b5",
   "metadata": {},
   "outputs": [],
   "source": [
    "df =  pd.read_csv(r\"marketing_AB.csv\")"
   ]
  },
  {
   "cell_type": "code",
   "execution_count": 100,
   "id": "b788bb77-56fe-445a-b87c-2b015b5fef02",
   "metadata": {},
   "outputs": [
    {
     "data": {
      "text/plain": [
       "Index(['Unnamed: 0', 'user id', 'test group', 'converted', 'total ads',\n",
       "       'most ads day', 'most ads hour'],\n",
       "      dtype='object')"
      ]
     },
     "execution_count": 100,
     "metadata": {},
     "output_type": "execute_result"
    }
   ],
   "source": [
    "df.columns"
   ]
  },
  {
   "cell_type": "code",
   "execution_count": 101,
   "id": "96a801fa-a167-4698-992e-4245a0b54df8",
   "metadata": {},
   "outputs": [],
   "source": [
    "df.drop(columns=['Unnamed: 0','user id'],inplace=True)"
   ]
  },
  {
   "cell_type": "code",
   "execution_count": 102,
   "id": "389c0eed-69f5-4b70-b6b2-f1557195f7fd",
   "metadata": {},
   "outputs": [
    {
     "data": {
      "text/plain": [
       "test group       0\n",
       "converted        0\n",
       "total ads        0\n",
       "most ads day     0\n",
       "most ads hour    0\n",
       "dtype: int64"
      ]
     },
     "execution_count": 102,
     "metadata": {},
     "output_type": "execute_result"
    }
   ],
   "source": [
    "df.isna().sum()"
   ]
  },
  {
   "cell_type": "code",
   "execution_count": 103,
   "id": "256af262-fc90-4572-ae62-4a606d0a4020",
   "metadata": {},
   "outputs": [
    {
     "data": {
      "text/plain": [
       "array(['ad', 'psa'], dtype=object)"
      ]
     },
     "execution_count": 103,
     "metadata": {},
     "output_type": "execute_result"
    }
   ],
   "source": [
    "df['test group'].unique()"
   ]
  },
  {
   "cell_type": "code",
   "execution_count": 111,
   "id": "09e5854e-0ec3-48c8-98a2-c15782b0dabd",
   "metadata": {},
   "outputs": [],
   "source": [
    "# Group of people who saw the public service announcement\n",
    "control_group = df[df['test group']=='psa']"
   ]
  },
  {
   "cell_type": "code",
   "execution_count": 113,
   "id": "166ab507-1aff-4978-9a48-db037a32ad35",
   "metadata": {},
   "outputs": [],
   "source": [
    "experiment_group = df[df['test group']=='ad'] # Group of people who saw the ad"
   ]
  },
  {
   "cell_type": "markdown",
   "id": "76d15908-b735-4e51-a036-0ad68b0e5f71",
   "metadata": {},
   "source": [
    "To apply a t-test for the two groups, the following conditions must be met:\n",
    "* The two groups are independent.\n",
    "* The data in each group are approximately normally distributed.\n",
    "* Variances between the groups are equal (though a Welch's t-test can be used if variances are unequal).\n",
    "\n",
    "The two groups are clearly independent given that they are different test groups. Moreover, by the Central Limit Theorem, the two groups are approximately normal. We test to see if the variances are equal. If not, we will apply Welch's t-test to account for this fact."
   ]
  },
  {
   "cell_type": "code",
   "execution_count": 116,
   "id": "51309dab-3457-4bce-a19f-20fd05bd0c3b",
   "metadata": {},
   "outputs": [
    {
     "name": "stdout",
     "output_type": "stream",
     "text": [
      "Levene’s Test Statistic: 54.322884225785735\n",
      "P-Value: 1.703305262368155e-13\n",
      "Variances are significantly different (heterogeneous variances).\n"
     ]
    }
   ],
   "source": [
    "# Extract 'converted' column for both groups\n",
    "control_group = df[df['test group'] == 'psa']['converted'].astype(int)\n",
    "experiment_group = df[df['test group'] == 'ad']['converted'].astype(int)\n",
    "\n",
    "# Perform Levene's test\n",
    "stat, p_value = levene(control_group, experiment_group)\n",
    "\n",
    "print(f\"Levene’s Test Statistic: {stat}\")\n",
    "print(f\"P-Value: {p_value}\")\n",
    "\n",
    "if p_value < 0.05:\n",
    "    print(\"Variances are significantly different (heterogeneous variances).\")\n",
    "else:\n",
    "    print(\"No significant difference in variances (homogeneous variances).\")"
   ]
  },
  {
   "cell_type": "markdown",
   "id": "ec60a0ac-8942-4692-9626-2b86304e32f4",
   "metadata": {},
   "source": [
    "Since the variances are significantly different, we use Welch's t-test."
   ]
  },
  {
   "cell_type": "code",
   "execution_count": 119,
   "id": "a0ae8e2b-4ab6-4b93-81c0-4b6e6fc8d16d",
   "metadata": {},
   "outputs": [
    {
     "name": "stdout",
     "output_type": "stream",
     "text": [
      "T-Statistic: -8.657162314551679\n",
      "P-Value: 5.107607598758945e-18\n",
      "Reject the null hypothesis: Significant difference in conversion rates between groups.\n"
     ]
    }
   ],
   "source": [
    "# Extract the 'converted' column for each group\n",
    "control_group = df[df['test group'] == 'psa']['converted'].astype(int)  # Ensure binary values are 0/1\n",
    "experiment_group = df[df['test group'] == 'ad']['converted'].astype(int)\n",
    "\n",
    "# Perform an independent t-test\n",
    "t_stat, p_value = ttest_ind(control_group, experiment_group, equal_var=False)  # Use Welch's t-test\n",
    "\n",
    "print(f\"T-Statistic: {t_stat}\")\n",
    "print(f\"P-Value: {p_value}\")\n",
    "\n",
    "if p_value < 0.05:\n",
    "    print(\"Reject the null hypothesis: Significant difference in conversion rates between groups.\")\n",
    "else:\n",
    "    print(\"Fail to reject the null hypothesis: No significant difference in conversion rates between groups.\")"
   ]
  },
  {
   "cell_type": "markdown",
   "id": "d7d59c42-794d-452c-87dc-007bc67097d1",
   "metadata": {},
   "source": [
    "****We conclude that there is a significant difference between the conversion rate of those who saw the psa and those who saw the ad. This suggests that the ad is more effective at converting customers and could be prioritized in future campaigns.****"
   ]
  }
 ],
 "metadata": {
  "kernelspec": {
   "display_name": "Python 3.11 (TensorFlow)",
   "language": "python",
   "name": "py311"
  },
  "language_info": {
   "codemirror_mode": {
    "name": "ipython",
    "version": 3
   },
   "file_extension": ".py",
   "mimetype": "text/x-python",
   "name": "python",
   "nbconvert_exporter": "python",
   "pygments_lexer": "ipython3",
   "version": "3.11.10"
  }
 },
 "nbformat": 4,
 "nbformat_minor": 5
}
