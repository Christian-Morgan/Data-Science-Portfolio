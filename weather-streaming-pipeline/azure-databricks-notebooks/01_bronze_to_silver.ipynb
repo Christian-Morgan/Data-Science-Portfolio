{
 "cells": [
  {
   "cell_type": "code",
   "execution_count": 0,
   "metadata": {
    "application/vnd.databricks.v1+cell": {
     "cellMetadata": {},
     "inputWidgets": {},
     "nuid": "c420a093-8c64-449d-b6f4-64384500be4f",
     "showTitle": false,
     "tableResultSettingsMap": {},
     "title": ""
    }
   },
   "outputs": [],
   "source": [
    "# Read from Azure storage\n",
    "df = spark.readStream.format(\"cloudFiles\") \\\n",
    "    .option(\"cloudFiles.format\", \"avro\") \\\n",
    "    .option(\"cloudFiles.schemaLocation\", \"/bronze/schema\") \\\n",
    "    .load(\"/mnt/bronze/\")"
   ]
  },
  {
   "cell_type": "code",
   "execution_count": 0,
   "metadata": {
    "application/vnd.databricks.v1+cell": {
     "cellMetadata": {},
     "inputWidgets": {},
     "nuid": "ef548e40-b097-40b4-9a1a-847cd4e7df2c",
     "showTitle": false,
     "tableResultSettingsMap": {},
     "title": ""
    }
   },
   "outputs": [],
   "source": [
    "from pyspark.sql.types import (\n",
    "    StructType,\n",
    "    StructField,\n",
    "    FloatType,\n",
    "    IntegerType,\n",
    "    StringType,\n",
    "    ArrayType,\n",
    "    LongType\n",
    ")\n",
    "\n",
    "# Define schema of incoming data\n",
    "schema = StructType([\n",
    "    StructField(\"coord\", StructType([\n",
    "        StructField(\"lon\", FloatType()),\n",
    "        StructField(\"lat\", FloatType())\n",
    "    ])),\n",
    "    StructField(\"weather\", ArrayType(StructType([\n",
    "        StructField(\"id\", IntegerType()),\n",
    "        StructField(\"main\", StringType()),\n",
    "        StructField(\"description\", StringType()),\n",
    "        StructField(\"icon\", StringType())\n",
    "    ]))),\n",
    "    StructField(\"base\", StringType()),\n",
    "    StructField(\"main\", StructType([\n",
    "        StructField(\"temp\", FloatType()),\n",
    "        StructField(\"feels_like\", FloatType()),\n",
    "        StructField(\"temp_min\", FloatType()),\n",
    "        StructField(\"temp_max\", FloatType()),\n",
    "        StructField(\"pressure\", FloatType()),\n",
    "        StructField(\"humidity\", FloatType()),\n",
    "        StructField(\"sea_level\", FloatType()),\n",
    "        StructField(\"grnd_level\", FloatType())\n",
    "    ])),\n",
    "    StructField(\"visibility\", IntegerType()),\n",
    "    StructField(\"wind\", StructType([\n",
    "        StructField(\"speed\", FloatType()),\n",
    "        StructField(\"deg\", FloatType()),\n",
    "        StructField(\"gust\", FloatType())\n",
    "    ])),\n",
    "    StructField(\"clouds\", StructType([\n",
    "        StructField(\"all\", IntegerType())\n",
    "    ])),\n",
    "    StructField(\"dt\", LongType()),\n",
    "    StructField(\"sys\", StructType([\n",
    "        StructField(\"type\", IntegerType()),\n",
    "        StructField(\"id\", IntegerType()),\n",
    "        StructField(\"country\", StringType()),\n",
    "        StructField(\"sunrise\", LongType()),\n",
    "        StructField(\"sunset\", LongType())\n",
    "    ])),\n",
    "    StructField(\"timezone\", IntegerType()),\n",
    "    StructField(\"id\", IntegerType()),\n",
    "    StructField(\"name\", StringType()),\n",
    "    StructField(\"cod\", IntegerType())\n",
    "])"
   ]
  },
  {
   "cell_type": "code",
   "execution_count": 0,
   "metadata": {
    "application/vnd.databricks.v1+cell": {
     "cellMetadata": {},
     "inputWidgets": {},
     "nuid": "38250ee2-22b5-47ee-b891-9dcb598d325b",
     "showTitle": false,
     "tableResultSettingsMap": {},
     "title": ""
    }
   },
   "outputs": [],
   "source": [
    "from pyspark.sql.functions import from_json, col\n",
    "\n",
    "# Parse the json file\n",
    "parsed_df = df.withColumn(\n",
    "    \"data\",\n",
    "    from_json(\n",
    "        col(\"Body\").cast(\"string\"),\n",
    "        schema\n",
    "    )\n",
    ")"
   ]
  },
  {
   "cell_type": "code",
   "execution_count": 0,
   "metadata": {
    "application/vnd.databricks.v1+cell": {
     "cellMetadata": {},
     "inputWidgets": {},
     "nuid": "5fec2c55-95d1-42fe-af69-d9b37792d476",
     "showTitle": false,
     "tableResultSettingsMap": {},
     "title": ""
    }
   },
   "outputs": [],
   "source": [
    "# Flatten parsed df\n",
    "flat_df = parsed_df.select(\n",
    "    col(\"data.coord.lon\").alias(\"longitude\"),\n",
    "    col(\"data.coord.lat\").alias(\"latitude\"),\n",
    "    \n",
    "    col(\"data.weather\")[0][\"main\"].alias(\"weather_condition\"),\n",
    "    col(\"data.weather\")[0][\"description\"].alias(\"weather_description\"),\n",
    "    col(\"data.weather\")[0][\"icon\"].alias(\"weather_icon\"),\n",
    "    \n",
    "    col(\"data.base\").alias(\"base\"),\n",
    "    \n",
    "    col(\"data.main.temp\").alias(\"temperature\"),\n",
    "    col(\"data.main.feels_like\").alias(\"feels_like\"),\n",
    "    col(\"data.main.temp_min\").alias(\"temp_min\"),\n",
    "    col(\"data.main.temp_max\").alias(\"temp_max\"),\n",
    "    col(\"data.main.pressure\").alias(\"pressure\"),\n",
    "    col(\"data.main.humidity\").alias(\"humidity\"),\n",
    "    col(\"data.main.sea_level\").alias(\"sea_level\"),\n",
    "    col(\"data.main.grnd_level\").alias(\"grnd_level\"),\n",
    "    \n",
    "    col(\"data.visibility\").alias(\"visibility\"),\n",
    "    \n",
    "    col(\"data.wind.speed\").alias(\"wind_speed\"),\n",
    "    col(\"data.wind.deg\").alias(\"wind_degree\"),\n",
    "    col(\"data.wind.gust\").alias(\"wind_gust\"),\n",
    "    \n",
    "    col(\"data.clouds.all\").alias(\"cloudiness\"),\n",
    "    \n",
    "    col(\"data.dt\").alias(\"timestamp_utc\"),\n",
    "    \n",
    "    col(\"data.sys.type\").alias(\"sys_type\"),\n",
    "    col(\"data.sys.id\").alias(\"sys_id\"),\n",
    "    col(\"data.sys.country\").alias(\"country\"),\n",
    "    col(\"data.sys.sunrise\").alias(\"sunrise\"),\n",
    "    col(\"data.sys.sunset\").alias(\"sunset\"),\n",
    "    \n",
    "    col(\"data.timezone\").alias(\"timezone\"),\n",
    "    col(\"data.id\").alias(\"city_id\"),\n",
    "    col(\"data.name\").alias(\"city_name\"),\n",
    "    col(\"data.cod\").alias(\"cod\")\n",
    ")"
   ]
  },
  {
   "cell_type": "code",
   "execution_count": 0,
   "metadata": {
    "application/vnd.databricks.v1+cell": {
     "cellMetadata": {},
     "inputWidgets": {},
     "nuid": "2e30f886-6347-47e4-83a5-c264c15a98b5",
     "showTitle": false,
     "tableResultSettingsMap": {},
     "title": ""
    }
   },
   "outputs": [],
   "source": [
    "from pyspark.sql.functions import from_unixtime, current_timestamp, col\n",
    "\n",
    "# Convert Unix timestamps and add processing metadata\n",
    "transformed_df = flat_df \\\n",
    "    .withColumn(\"timestamp\", col(\"timestamp_utc\").cast(\"timestamp\")) \\\n",
    "    .withColumn(\"sunrise_time\", from_unixtime(col(\"sunrise\"))) \\\n",
    "    .withColumn(\"sunset_time\", from_unixtime(col(\"sunset\"))) \\\n",
    "    .withColumn(\"processing_time\", current_timestamp()) \\\n",
    "    .drop(\"timestamp_utc\", \"sunrise\", \"sunset\")"
   ]
  },
  {
   "cell_type": "code",
   "execution_count": 0,
   "metadata": {
    "application/vnd.databricks.v1+cell": {
     "cellMetadata": {},
     "inputWidgets": {},
     "nuid": "df3b058d-62ea-41e0-8da3-d7179bd13ee9",
     "showTitle": false,
     "tableResultSettingsMap": {},
     "title": ""
    }
   },
   "outputs": [],
   "source": [
    "# Apply deduplication and watermarking for late-arriving data\n",
    "clean_df = (\n",
    "    transformed_df\n",
    "    .withWatermark(\"timestamp\", \"5 minutes\")\n",
    "    .dropDuplicates([\"city_id\", \"timestamp\"])\n",
    ")\n"
   ]
  },
  {
   "cell_type": "code",
   "execution_count": 0,
   "metadata": {
    "application/vnd.databricks.v1+cell": {
     "cellMetadata": {},
     "inputWidgets": {},
     "nuid": "f8e34602-24db-4c63-b08a-4b52c8f8c1e0",
     "showTitle": false,
     "tableResultSettingsMap": {},
     "title": ""
    }
   },
   "outputs": [],
   "source": [
    "w_stream_raw = (\n",
    "    clean_df.writeStream\n",
    "    .format(\"delta\")\n",
    "    .outputMode(\"append\")\n",
    "    .option(\"path\", \"/mnt/silver/data/\")\n",
    "    .option(\"checkpointLocation\", \"/mnt/silver/checkpoints/bronze_to_silver/\")\n",
    "    .trigger(availableNow=True)\n",
    "    .start()\n",
    ")\n",
    "\n",
    "w_stream_raw.awaitTermination()"
   ]
  }
 ],
 "metadata": {
  "application/vnd.databricks.v1+notebook": {
   "computePreferences": null,
   "dashboards": [],
   "environmentMetadata": {
    "base_environment": "",
    "environment_version": "4"
   },
   "inputWidgetPreferences": null,
   "language": "python",
   "notebookMetadata": {
    "pythonIndentUnit": 4
   },
   "notebookName": "01_bronze_to_silver",
   "widgets": {}
  },
  "language_info": {
   "name": "python"
  }
 },
 "nbformat": 4,
 "nbformat_minor": 0
}