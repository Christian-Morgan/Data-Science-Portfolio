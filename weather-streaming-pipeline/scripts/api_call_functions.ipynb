{
 "cells": [
  {
   "cell_type": "code",
   "execution_count": 7,
   "id": "8fd38848-bd1b-4b60-bb7b-fad9c7be8da8",
   "metadata": {},
   "outputs": [],
   "source": [
    "import requests\n",
    "import time\n",
    "import json\n",
    "from dotenv import load_dotenv\n",
    "import os\n",
    "from azure.eventhub import EventHubProducerClient, EventData"
   ]
  },
  {
   "cell_type": "code",
   "execution_count": 8,
   "id": "b7121b55-91cb-44f8-9144-8e5ee006c9c6",
   "metadata": {},
   "outputs": [],
   "source": [
    "result = load_dotenv()"
   ]
  },
  {
   "cell_type": "code",
   "execution_count": 9,
   "id": "16896398-57a4-4026-bf79-4c1692bb5141",
   "metadata": {},
   "outputs": [],
   "source": [
    "API_KEY = os.getenv('API_KEY')\n",
    "EVENT_HUB_CONN_STR = os.getenv(\"EVENT_HUB_CONN_STR\")\n",
    "EVENT_HUB_NAME = os.getenv(\"EVENT_HUB_NAME\")"
   ]
  },
  {
   "cell_type": "code",
   "execution_count": 10,
   "id": "c553945b-111f-4287-b04b-485757aca7a6",
   "metadata": {},
   "outputs": [],
   "source": [
    "producer = EventHubProducerClient.from_connection_string(\n",
    "    conn_str=EVENT_HUB_CONN_STR,\n",
    "    eventhub_name=EVENT_HUB_NAME\n",
    ")\n",
    "\n",
    "# Make API Call\n",
    "def api_call(city):\n",
    "    url = f\"http://api.openweathermap.org/data/2.5/weather?q={city}&appid={API_KEY}\"\n",
    "    response = requests.get(url)\n",
    "    # Ensure that request succeeds\n",
    "    if response.status_code != 200:\n",
    "        print(f\"Error: Unable to fetch data for {city}. Status code: {response.status_code}\")\n",
    "        return None\n",
    "    # Convert http request to dictionary type\n",
    "    data = response.json()\n",
    "    # Convert to json string\n",
    "    data_json_str = json.dumps(data)\n",
    "    return data_json_str"
   ]
  },
  {
   "cell_type": "code",
   "execution_count": null,
   "id": "3da662e9-4fbb-4de0-884e-eb911e85ed32",
   "metadata": {},
   "outputs": [],
   "source": [
    "# Call Open Weather API every 5 minutes and send to Azure Event Hubs\n",
    "def api_call_timer(city1, city2, city3):\n",
    "    cities = [city1, city2, city3]\n",
    "    try:\n",
    "        while True:\n",
    "            event_data_batch = producer.create_batch()\n",
    "            results = [api_call(city1), api_call(city2), api_call(city3)]\n",
    "            for i in range(len(cities)):\n",
    "                if results[i] is None:\n",
    "                    print(f\"Error: Failed to retrieve weather data for {cities[i]}\")\n",
    "                else:\n",
    "                    event_data_batch.add(EventData(results[i]))\n",
    "            producer.send_batch(event_data_batch)\n",
    "            print(results)\n",
    "            time.sleep(300)\n",
    "    except KeyboardInterrupt:\n",
    "        print(\"Stream stopped\")\n",
    "        print(results)\n",
    "    finally:\n",
    "        producer.close()\n",
    "        print(\"Connection closed\")"
   ]
  },
  {
   "cell_type": "code",
   "execution_count": null,
   "id": "6ecef4dd-504b-407c-8e69-576d84896894",
   "metadata": {},
   "outputs": [],
   "source": [
    "api_call_timer(\"Miami\", \"Indianapolis\", \"Chicago\")"
   ]
  }
 ],
 "metadata": {
  "kernelspec": {
   "display_name": "Python 3 (ipykernel)",
   "language": "python",
   "name": "python3"
  },
  "language_info": {
   "codemirror_mode": {
    "name": "ipython",
    "version": 3
   },
   "file_extension": ".py",
   "mimetype": "text/x-python",
   "name": "python",
   "nbconvert_exporter": "python",
   "pygments_lexer": "ipython3",
   "version": "3.13.7"
  }
 },
 "nbformat": 4,
 "nbformat_minor": 5
}
